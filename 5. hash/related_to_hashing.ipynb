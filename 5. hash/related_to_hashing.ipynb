{
  "cells": [
    {
      "cell_type": "code",
      "source": [
        "class Node:\n",
        "    def __init__(self, data, next=None):\n",
        "        self.data = data\n",
        "        self.next = next"
      ],
      "metadata": {
        "id": "KGjQSfrhYuBL"
      },
      "execution_count": 1,
      "outputs": []
    },
    {
      "cell_type": "code",
      "source": [
        "head = Node(0)      # используем в цикле\n",
        "head_start = head   # передаём в функцию\n",
        "\n",
        "for i in range(1, 10):\n",
        "    node = Node(i)\n",
        "    head.next = node\n",
        "    head = node"
      ],
      "metadata": {
        "id": "8EofDaQRiUlK"
      },
      "execution_count": 2,
      "outputs": []
    },
    {
      "cell_type": "markdown",
      "source": [
        "**Задача**: удалить из односвязного списка удалить элемент с числом $k$"
      ],
      "metadata": {
        "id": "gWgROwpZgaIa"
      }
    },
    {
      "cell_type": "code",
      "source": [
        "# переставить указатели\n",
        "def remove_node(head, k):\n",
        "    if head is None:\n",
        "        return None\n",
        "\n",
        "    if head.data == k:\n",
        "        return head.next\n",
        "\n",
        "    current_node = head\n",
        "\n",
        "    while current_node.next:\n",
        "        prev_node = current_node\n",
        "        current_node = head.next\n",
        "\n",
        "        if current_node.data == k:\n",
        "            prev_node.next = current_node.next\n",
        "            break\n",
        "\n",
        "    return head\n",
        "\n",
        "# тесты: пустой список, список из одного элемента, если удаляем первый, если удаляем последний, если удаляем из середины"
      ],
      "metadata": {
        "id": "FUm8X3I9gabB"
      },
      "execution_count": 5,
      "outputs": []
    },
    {
      "cell_type": "markdown",
      "source": [
        "**Задача**: реализовать LRU-cache\n",
        "\n",
        "- классическое решение делается через двусвязный список?\n",
        "\n",
        "- нужна какая-то временная метка, чтобы удалять least recently used?\n",
        "\n",
        "- здесь можно использовать питоновские словари? Вроде, начиная с какой-то версии они поддерживают упорядоченность"
      ],
      "metadata": {
        "id": "5F4T9LaD_IvG"
      }
    },
    {
      "cell_type": "code",
      "source": [
        "d = {1: '1' , 2: '2', 3: '3', 4: '4'}\n",
        "print(next(iter(d)))"
      ],
      "metadata": {
        "colab": {
          "base_uri": "https://localhost:8080/"
        },
        "id": "_cfP1IIFBcBN",
        "outputId": "a448e341-78a4-45c1-d3f7-063188847317"
      },
      "execution_count": 6,
      "outputs": [
        {
          "output_type": "stream",
          "name": "stdout",
          "text": [
            "1\n"
          ]
        }
      ]
    },
    {
      "cell_type": "code",
      "source": [
        "class LRUCache:\n",
        "    def __init__(self, limit):\n",
        "        self.limit = limit\n",
        "        self.cache = {}\n",
        "\n",
        "    def get(self, key):\n",
        "        if key in self.cache:\n",
        "            result = self.cache[key]\n",
        "            del self.cache[key]\n",
        "            self.cache[key] = result\n",
        "            return result\n",
        "        else:\n",
        "            return None\n",
        "\n",
        "    def set(self, key, value):\n",
        "        if key in self.cache:\n",
        "            self.cache[key] = value\n",
        "        else:\n",
        "            if len(self.cache == self.limit):\n",
        "                del self.cache[next(iter(self.cache))]\n",
        "            self.cache[key] = value"
      ],
      "metadata": {
        "id": "XQHGW4lxjS0U"
      },
      "execution_count": 7,
      "outputs": []
    },
    {
      "cell_type": "markdown",
      "source": [
        "**Задача**: определить $k$-ый наибольший элемент последовательности. Функция принимает неупорядоченный `iterable` объект и возвращает $k$-ый наибольший.\n",
        "\n",
        "Понадобится `heapq`, в питоне используется minheap. Если хотим возвращать минимальный, то можно домножать на -1"
      ],
      "metadata": {
        "id": "wpHuP5VBGD6J"
      }
    },
    {
      "cell_type": "code",
      "source": [
        "# [1, 2, 3, 4, 5, 6, 7, 8], 3 -> 6\n",
        "# [1, 2, 3, 4, 5, 6, 7, 8], 1 -> 8\n",
        "# [1, 2, 3, 4, 5, 6, 7, 8], 8 -> 1"
      ],
      "metadata": {
        "id": "5xR3GYHDCeT-"
      },
      "execution_count": 8,
      "outputs": []
    },
    {
      "cell_type": "code",
      "source": [
        "import heapq\n",
        "# heapq.heappush(heap, elem)\n",
        "# heapq.heappop(heap)"
      ],
      "metadata": {
        "id": "mNVWHWu2GjgH"
      },
      "execution_count": 10,
      "outputs": []
    },
    {
      "cell_type": "code",
      "source": [
        "class NLarge:\n",
        "    def __init__(self, n):\n",
        "        self.n = n\n",
        "        self.h = []\n",
        "\n",
        "    def add(self, elem) -> int:\n",
        "        heapq.heappush(self.h, elem)\n",
        "\n",
        "        if len(self.h) >= self.n:\n",
        "            while len(self.h) > self.n:\n",
        "                heapq.heappop(self.h)\n",
        "            return self.h[0]\n",
        "        return None"
      ],
      "metadata": {
        "id": "dg9ukB5nGmZc"
      },
      "execution_count": 11,
      "outputs": []
    },
    {
      "cell_type": "code",
      "source": [
        "nl = NLarge(3)\n",
        "assert nl.add(1) == None\n",
        "assert nl.add(2) == None\n",
        "assert nl.add(3) == 1\n",
        "assert nl.add(0) == 1\n",
        "assert nl.add(5) == 2\n",
        "assert nl.add(4) == 3\n",
        "\n",
        "print(\"ok\")"
      ],
      "metadata": {
        "colab": {
          "base_uri": "https://localhost:8080/"
        },
        "id": "1xhXFYZqJfOO",
        "outputId": "ebe3f967-38eb-4de5-a2de-05a6aa0920e0"
      },
      "execution_count": 12,
      "outputs": [
        {
          "output_type": "stream",
          "name": "stdout",
          "text": [
            "ok\n"
          ]
        }
      ]
    },
    {
      "cell_type": "code",
      "source": [],
      "metadata": {
        "id": "WyKI5pnwJipA"
      },
      "execution_count": null,
      "outputs": []
    }
  ],
  "metadata": {
    "kernelspec": {
      "display_name": "Python 3 (ipykernel)",
      "language": "python",
      "name": "python3"
    },
    "language_info": {
      "codemirror_mode": {
        "name": "ipython",
        "version": 3
      },
      "file_extension": ".py",
      "mimetype": "text/x-python",
      "name": "python",
      "nbconvert_exporter": "python",
      "pygments_lexer": "ipython3",
      "version": "3.10.7"
    },
    "colab": {
      "provenance": []
    }
  },
  "nbformat": 4,
  "nbformat_minor": 0
}