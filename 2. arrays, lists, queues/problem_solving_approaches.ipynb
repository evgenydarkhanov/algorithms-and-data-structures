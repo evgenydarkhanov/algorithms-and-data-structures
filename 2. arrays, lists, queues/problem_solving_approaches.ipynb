{
  "cells": [
    {
      "cell_type": "code",
      "source": [
        "from typing import Optional"
      ],
      "metadata": {
        "id": "MrSK-vA6afd2"
      },
      "execution_count": 1,
      "outputs": []
    },
    {
      "cell_type": "markdown",
      "source": [
        "**Задача**: отсортированный массив. Найти в нём 2 элемента, сумма которых равна $k$\n",
        "\n",
        "Методом двух указателей:\n",
        "- можно зафиксировать один и бегать вторым по массиву - $O(n^2)$\n",
        "- можно прикрутить бинарный поиск - $O(log\\;n)$\n",
        "- можно посчитать сумму и сдвигать левый или правый - $O(n)$"
      ],
      "metadata": {
        "id": "i_tGSPHslxVu"
      }
    },
    {
      "cell_type": "code",
      "source": [
        "def find_sum_k(arr: list[int], k: int) -> Optional[tuple[int, int]]:\n",
        "    left = 0\n",
        "    right = len(arr) - 1\n",
        "    while left < right:\n",
        "        summa = arr[left] + arr[right]\n",
        "\n",
        "        if summa < k:\n",
        "            left += 1\n",
        "        elif summa > k:\n",
        "            right -= 1\n",
        "        else:\n",
        "            return (left, right)\n",
        "    return None\n",
        "\n",
        "\n",
        "assert find_sum_k([1, 2, 3], 5) == (1, 2)\n",
        "assert find_sum_k([1, 2, 3], 4) == (0, 2)\n",
        "assert find_sum_k([1, 2, 8], 4) is None\n",
        "assert find_sum_k([1, 2, 3], 6) is None"
      ],
      "metadata": {
        "id": "SYy76nf_n9G4"
      },
      "execution_count": 2,
      "outputs": []
    },
    {
      "cell_type": "markdown",
      "source": [
        "**Задача**: найти зацикливание в односвязном списке\n",
        "\n",
        "Методом двух указателей:\n",
        "- можно хранить список посещённых вершин и проверять - накладно по памяти\n",
        "- запустить два указателя, один быстрее. Если зацикливание есть, то они сойдутся в одной точке - $O(n)$"
      ],
      "metadata": {
        "id": "1hetAROr2GvB"
      }
    },
    {
      "cell_type": "code",
      "source": [
        "class Node:\n",
        "    def __init__(self, data, next=None):\n",
        "        self.data = data\n",
        "        self.next = next"
      ],
      "metadata": {
        "id": "fOIfzEmV1L5c"
      },
      "execution_count": 5,
      "outputs": []
    },
    {
      "cell_type": "code",
      "source": [
        "# lst1 = Node(1, next=2) -> Node(2, next=3) -> Node(3, next=None)\n",
        "# lst2 = Node(1, next=2) -> Node(2, next=3) -> Node(3, next=2)\n",
        "\n",
        "lst1 = Node(1, next=Node(2, next=Node(3)))\n",
        "\n",
        "n3 = Node(3)\n",
        "n2 = Node(2, next=n3)\n",
        "n3.next = n2\n",
        "lst2 = Node(1, next=n2)"
      ],
      "metadata": {
        "id": "Oy4-QmN-2t4Z"
      },
      "execution_count": 6,
      "outputs": []
    },
    {
      "cell_type": "code",
      "source": [
        "def has_cycle(head):\n",
        "    fast = head\n",
        "    slow = head\n",
        "\n",
        "    while fast and fast.next:\n",
        "        fast = fast.next.next\n",
        "        slow = slow.next\n",
        "        if fast is slow:\n",
        "            return True\n",
        "    return False\n",
        "\n",
        "assert not has_cycle(lst1)\n",
        "assert has_cycle(lst2)"
      ],
      "metadata": {
        "id": "ejEnDD6729VL"
      },
      "execution_count": 9,
      "outputs": []
    },
    {
      "cell_type": "markdown",
      "source": [
        "**Задача**: функция принимает список\n",
        "и возвращает список, элементами которого являются средние значения по окну из $k$ элементов\n",
        "\n",
        "Методом скользящего окна:"
      ],
      "metadata": {
        "id": "U-2W75oL4J3Z"
      }
    },
    {
      "cell_type": "code",
      "source": [
        "def mean(arr: list[int]) -> float:\n",
        "    value = sum(arr) / len(arr)\n",
        "    return value\n",
        "\n",
        "\n",
        "def rolling_mean(arr: list[int], k: int) -> list[float]:\n",
        "    left = 0\n",
        "    right = k\n",
        "    out = []\n",
        "    for i in range(len(arr)):\n",
        "        if right + i == len(arr):\n",
        "            break\n",
        "        value = mean(arr[left+i:right+i+1])\n",
        "        out.append(value)\n",
        "    return out\n",
        "\n",
        "a = [1, 2, 3, 4, 5, 6, 7]\n",
        "print(rolling_mean(a, 3))"
      ],
      "metadata": {
        "colab": {
          "base_uri": "https://localhost:8080/"
        },
        "id": "7Majayqa3lP7",
        "outputId": "48b5e4ed-0eeb-45e6-8fd5-81604c5c43a5"
      },
      "execution_count": 10,
      "outputs": [
        {
          "output_type": "stream",
          "name": "stdout",
          "text": [
            "[2.5, 3.5, 4.5, 5.5]\n"
          ]
        }
      ]
    },
    {
      "cell_type": "code",
      "source": [],
      "metadata": {
        "id": "MkhFnCnW6LX7"
      },
      "execution_count": null,
      "outputs": []
    }
  ],
  "metadata": {
    "kernelspec": {
      "display_name": "Python 3 (ipykernel)",
      "language": "python",
      "name": "python3"
    },
    "language_info": {
      "codemirror_mode": {
        "name": "ipython",
        "version": 3
      },
      "file_extension": ".py",
      "mimetype": "text/x-python",
      "name": "python",
      "nbconvert_exporter": "python",
      "pygments_lexer": "ipython3",
      "version": "3.10.7"
    },
    "colab": {
      "provenance": []
    }
  },
  "nbformat": 4,
  "nbformat_minor": 0
}