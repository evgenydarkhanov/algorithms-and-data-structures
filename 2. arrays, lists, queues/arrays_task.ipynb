{
  "cells": [
    {
      "cell_type": "code",
      "source": [
        "from typing import Any, List"
      ],
      "metadata": {
        "id": "MrSK-vA6afd2"
      },
      "execution_count": null,
      "outputs": []
    },
    {
      "cell_type": "markdown",
      "source": [
        "**Задача**: развернуть массив"
      ],
      "metadata": {
        "id": "i_tGSPHslxVu"
      }
    },
    {
      "cell_type": "code",
      "source": [
        "def reverse(arr: List[Any]) -> List[Any]:\n",
        "    out = arr[::-1]\n",
        "\n",
        "    # out = []\n",
        "    # for i in range(len(arr)-1, -1, 1):\n",
        "    #     out.append(i)\n",
        "\n",
        "    # out = []\n",
        "    # for item in arr:\n",
        "    #     out.insert(0, item)\n",
        "\n",
        "    # length = len(arr)\n",
        "    # out = [None for _ in range(length)] # out = [None] * length\n",
        "    # for (index, value) in enumerate(arr):\n",
        "    #     out[length - index - 1] = value\n",
        "\n",
        "    return out\n",
        "\n",
        "    # length = len(arr)\n",
        "    # for i in range(length // 2):\n",
        "    #     arr[i], arr[length - i - 1] = arr[length - i - 1], arr[i]\n",
        "    # return arr"
      ],
      "metadata": {
        "id": "yTu3dXzflxks"
      },
      "execution_count": null,
      "outputs": []
    },
    {
      "cell_type": "code",
      "source": [],
      "metadata": {
        "id": "SYy76nf_n9G4"
      },
      "execution_count": null,
      "outputs": []
    }
  ],
  "metadata": {
    "kernelspec": {
      "display_name": "Python 3 (ipykernel)",
      "language": "python",
      "name": "python3"
    },
    "language_info": {
      "codemirror_mode": {
        "name": "ipython",
        "version": 3
      },
      "file_extension": ".py",
      "mimetype": "text/x-python",
      "name": "python",
      "nbconvert_exporter": "python",
      "pygments_lexer": "ipython3",
      "version": "3.10.7"
    },
    "colab": {
      "provenance": []
    }
  },
  "nbformat": 4,
  "nbformat_minor": 0
}