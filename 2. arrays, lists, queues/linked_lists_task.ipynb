{
  "cells": [
    {
      "cell_type": "code",
      "source": [
        "class Node:\n",
        "    def __init__(self, data):\n",
        "        self.data = data\n",
        "        self.next = None"
      ],
      "metadata": {
        "id": "SYy76nf_n9G4"
      },
      "execution_count": null,
      "outputs": []
    },
    {
      "cell_type": "code",
      "source": [
        "head = Node(0)      # используем в цикле\n",
        "head_start = head   # передаём в функцию\n",
        "\n",
        "for i in range(1, 10):\n",
        "    node = Node(i)\n",
        "    head.next = node\n",
        "    head = node"
      ],
      "metadata": {
        "id": "5IY630Is0WVX"
      },
      "execution_count": null,
      "outputs": []
    },
    {
      "cell_type": "markdown",
      "source": [
        "**Задача**: распечатать односвязный список"
      ],
      "metadata": {
        "id": "vskzRYEYmJ2L"
      }
    },
    {
      "cell_type": "code",
      "source": [
        "def linked_list_print(head):\n",
        "    while head.next:\n",
        "        print(f'{head.data} -->', end=' ')\n",
        "        head = head.next\n",
        "    print(f'{head.data} -->', end=' ')\n",
        "    print('None')\n",
        "\n",
        "linked_list_print(head_start)"
      ],
      "metadata": {
        "colab": {
          "base_uri": "https://localhost:8080/"
        },
        "id": "1HV2bhCgfjWM",
        "outputId": "6f6059a0-5ac0-4ae8-ecd5-bd629c5e6f51"
      },
      "execution_count": null,
      "outputs": [
        {
          "output_type": "stream",
          "name": "stdout",
          "text": [
            "0 --> 1 --> 2 --> 3 --> 4 --> 5 --> 6 --> 7 --> 8 --> 9 --> None\n"
          ]
        }
      ]
    },
    {
      "cell_type": "markdown",
      "source": [
        "**Задача**: написать функцию, которая принимает односвязный список и k, и возвращает узел со значением k или None"
      ],
      "metadata": {
        "id": "i_tGSPHslxVu"
      }
    },
    {
      "cell_type": "code",
      "source": [
        "def find_node(head, k):\n",
        "    if head.data == k:\n",
        "        return head.data\n",
        "    while head.next:\n",
        "        head = head.next\n",
        "        if head.data == k:\n",
        "            return head.data\n",
        "    return None\n",
        "\n",
        "find_node(head_start, 6)"
      ],
      "metadata": {
        "colab": {
          "base_uri": "https://localhost:8080/"
        },
        "id": "vZI06hD5gFRX",
        "outputId": "e3b9c9eb-5ce7-424c-93b9-4dd7f8786e1f"
      },
      "execution_count": null,
      "outputs": [
        {
          "output_type": "execute_result",
          "data": {
            "text/plain": [
              "6"
            ]
          },
          "metadata": {},
          "execution_count": 54
        }
      ]
    },
    {
      "cell_type": "markdown",
      "source": [
        "**Задача**: развернуть односвязный список"
      ],
      "metadata": {
        "id": "HOp4GIYkmUxS"
      }
    },
    {
      "cell_type": "code",
      "source": [
        "def linked_list_reverse(head):\n",
        "    node = head\n",
        "    prev = None\n",
        "    while node:\n",
        "        next_node = node.next\n",
        "        node.next = prev\n",
        "        prev = node\n",
        "        node = next_node\n",
        "    return prev\n",
        "\n",
        "reversed = linked_list_reverse(head_start)\n",
        "linked_list_print(reversed)"
      ],
      "metadata": {
        "colab": {
          "base_uri": "https://localhost:8080/"
        },
        "id": "Ah6nfagxhmRx",
        "outputId": "fe3a85df-3323-44c1-b82d-4d521d88f02a"
      },
      "execution_count": null,
      "outputs": [
        {
          "output_type": "stream",
          "name": "stdout",
          "text": [
            "9 --> 8 --> 7 --> 6 --> 5 --> 4 --> 3 --> 2 --> 1 --> 0 --> None\n"
          ]
        }
      ]
    },
    {
      "cell_type": "code",
      "source": [],
      "metadata": {
        "id": "fsv9RglPqEVs"
      },
      "execution_count": null,
      "outputs": []
    }
  ],
  "metadata": {
    "kernelspec": {
      "display_name": "Python 3 (ipykernel)",
      "language": "python",
      "name": "python3"
    },
    "language_info": {
      "codemirror_mode": {
        "name": "ipython",
        "version": 3
      },
      "file_extension": ".py",
      "mimetype": "text/x-python",
      "name": "python",
      "nbconvert_exporter": "python",
      "pygments_lexer": "ipython3",
      "version": "3.10.7"
    },
    "colab": {
      "provenance": []
    }
  },
  "nbformat": 4,
  "nbformat_minor": 0
}