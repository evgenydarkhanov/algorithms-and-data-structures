{
  "cells": [
    {
      "cell_type": "code",
      "source": [
        "import random"
      ],
      "metadata": {
        "id": "GslHJJFHT1IE"
      },
      "execution_count": 1,
      "outputs": []
    },
    {
      "cell_type": "markdown",
      "source": [
        "**counting sort**"
      ],
      "metadata": {
        "id": "DVmrebf24gKm"
      }
    },
    {
      "cell_type": "code",
      "source": [
        "def array_for_counting_sort(max_len, max_value):\n",
        "    arr = [random.randint(0, max_value) for _ in range(max_len)]\n",
        "    return arr"
      ],
      "metadata": {
        "id": "vDM28wUo4gai"
      },
      "execution_count": 2,
      "outputs": []
    },
    {
      "cell_type": "code",
      "source": [
        "def counting_sort(arr):\n",
        "    max_value = max(arr)\n",
        "    length = len(arr)\n",
        "\n",
        "    tmp = [0 for _ in range(max_value + 1)]\n",
        "    out = [0 for _ in range(length)]\n",
        "\n",
        "    for elem in arr:\n",
        "        tmp[elem] += 1\n",
        "\n",
        "    for i in range(1, max_value + 1):\n",
        "        tmp[i] += tmp[i-1]\n",
        "\n",
        "    for i in range(length - 1, -1, -1):\n",
        "        out[tmp[arr[i]] - 1] = arr[i]\n",
        "        tmp[arr[i]] -= 1\n",
        "\n",
        "    return out"
      ],
      "metadata": {
        "id": "CVZ9EhVi8YKe"
      },
      "execution_count": 3,
      "outputs": []
    },
    {
      "cell_type": "code",
      "source": [
        "test_arr = array_for_counting_sort(1000, 100)\n",
        "print(test_arr[:30])\n",
        "print()\n",
        "print(counting_sort(test_arr)[:30])"
      ],
      "metadata": {
        "colab": {
          "base_uri": "https://localhost:8080/"
        },
        "id": "qx2XBccy9rh2",
        "outputId": "d16944dd-4973-4f5f-b253-41d0e3b0fc1b"
      },
      "execution_count": 4,
      "outputs": [
        {
          "output_type": "stream",
          "name": "stdout",
          "text": [
            "[41, 46, 91, 8, 25, 84, 12, 81, 75, 24, 3, 34, 21, 95, 78, 45, 39, 36, 3, 39, 34, 52, 40, 7, 80, 9, 7, 48, 4, 94]\n",
            "\n",
            "[0, 0, 0, 0, 0, 0, 0, 1, 1, 1, 1, 1, 1, 2, 2, 2, 2, 2, 2, 2, 2, 2, 2, 2, 2, 2, 2, 2, 2, 2]\n"
          ]
        }
      ]
    },
    {
      "cell_type": "markdown",
      "source": [
        "**Задача**: остортировать массив данных по возрасту. Элементы массива - структуры\n",
        "\n",
        "Структура:\n",
        "- имя\n",
        "- фамилия\n",
        "- возраст\n",
        "- адрес"
      ],
      "metadata": {
        "id": "B8LSsJRU-5E7"
      }
    },
    {
      "cell_type": "code",
      "source": [
        "from dataclasses import dataclass\n",
        "from typing import Sequence\n",
        "\n",
        "@dataclass(order=True)\n",
        "class Person:\n",
        "    name: str = ''\n",
        "    surname: str = ''\n",
        "    age: int = 0\n",
        "    address: str = ''"
      ],
      "metadata": {
        "id": "4GjBzcoM9yLu"
      },
      "execution_count": 15,
      "outputs": []
    },
    {
      "cell_type": "code",
      "source": [
        "def count_sort_age(arr: Sequence[Person], key) -> Sequence[Person]:\n",
        "    max_value = max(key(elem) for elem in arr)\n",
        "    length = len(arr)\n",
        "\n",
        "    tmp = [0 for _ in range(max_value + 1)]\n",
        "    out = [None for _ in range(length)]\n",
        "\n",
        "    for elem in arr:\n",
        "        tmp[key(elem)] += 1\n",
        "\n",
        "    for i in range(1, max_value + 1):\n",
        "        tmp[i] += tmp[i-1]\n",
        "\n",
        "    for elem in arr[::-1]:\n",
        "        out[tmp[key(elem)] - 1] = elem\n",
        "        tmp[key(elem)] -= 1\n",
        "    return out"
      ],
      "metadata": {
        "id": "lhbOtuTN_mUY"
      },
      "execution_count": 16,
      "outputs": []
    },
    {
      "cell_type": "code",
      "source": [
        "# рандомный порядок\n",
        "persons_random = [Person(age = random.randint(10, 50)) for i in range(10)]\n",
        "print(persons_random)\n",
        "\n",
        "persons_sorted_random = count_sort_age(persons_random, key=lambda p: p.age)\n",
        "print(persons_sorted_random)"
      ],
      "metadata": {
        "colab": {
          "base_uri": "https://localhost:8080/"
        },
        "id": "P4F3JIuL_2Ng",
        "outputId": "677329d7-03b2-4023-fda4-6c298e621a7b"
      },
      "execution_count": 17,
      "outputs": [
        {
          "output_type": "stream",
          "name": "stdout",
          "text": [
            "[Person(name='', surname='', age=29, address=''), Person(name='', surname='', age=41, address=''), Person(name='', surname='', age=15, address=''), Person(name='', surname='', age=50, address=''), Person(name='', surname='', age=40, address=''), Person(name='', surname='', age=39, address=''), Person(name='', surname='', age=47, address=''), Person(name='', surname='', age=34, address=''), Person(name='', surname='', age=34, address=''), Person(name='', surname='', age=44, address='')]\n",
            "[Person(name='', surname='', age=15, address=''), Person(name='', surname='', age=29, address=''), Person(name='', surname='', age=34, address=''), Person(name='', surname='', age=34, address=''), Person(name='', surname='', age=39, address=''), Person(name='', surname='', age=40, address=''), Person(name='', surname='', age=41, address=''), Person(name='', surname='', age=44, address=''), Person(name='', surname='', age=47, address=''), Person(name='', surname='', age=50, address='')]\n"
          ]
        }
      ]
    },
    {
      "cell_type": "code",
      "source": [
        "# обратный порядок\n",
        "persons_reversed = [Person(age = 50 - i) for i in range(10)]\n",
        "print(persons_reversed)\n",
        "\n",
        "persons_sorted_reversed = count_sort_age(persons_reversed, key=lambda p: p.age)\n",
        "print(persons_sorted_reversed)"
      ],
      "metadata": {
        "colab": {
          "base_uri": "https://localhost:8080/"
        },
        "id": "Th_yXxW3P5O5",
        "outputId": "3b4f9fca-1d90-43f2-cc3a-833048c4f7b4"
      },
      "execution_count": 18,
      "outputs": [
        {
          "output_type": "stream",
          "name": "stdout",
          "text": [
            "[Person(name='', surname='', age=50, address=''), Person(name='', surname='', age=49, address=''), Person(name='', surname='', age=48, address=''), Person(name='', surname='', age=47, address=''), Person(name='', surname='', age=46, address=''), Person(name='', surname='', age=45, address=''), Person(name='', surname='', age=44, address=''), Person(name='', surname='', age=43, address=''), Person(name='', surname='', age=42, address=''), Person(name='', surname='', age=41, address='')]\n",
            "[Person(name='', surname='', age=41, address=''), Person(name='', surname='', age=42, address=''), Person(name='', surname='', age=43, address=''), Person(name='', surname='', age=44, address=''), Person(name='', surname='', age=45, address=''), Person(name='', surname='', age=46, address=''), Person(name='', surname='', age=47, address=''), Person(name='', surname='', age=48, address=''), Person(name='', surname='', age=49, address=''), Person(name='', surname='', age=50, address='')]\n"
          ]
        }
      ]
    },
    {
      "cell_type": "markdown",
      "source": [
        "**Задача**: остортировать массив данных по балансу. Элементы массива - структуры. Баланс может быть отрицательным\n",
        "\n",
        "Структура:\n",
        "- баланс\n",
        "- возраст"
      ],
      "metadata": {
        "id": "TlNNjWjoDWuc"
      }
    },
    {
      "cell_type": "code",
      "source": [
        "@dataclass(order=True)\n",
        "class Person:\n",
        "    balance: int = 0\n",
        "    age: int = 0"
      ],
      "metadata": {
        "id": "Zoa8eniiR_4r"
      },
      "execution_count": 21,
      "outputs": []
    },
    {
      "cell_type": "code",
      "source": [
        "# сдвинуть на минимум\n",
        "\n",
        "def count_sort_balance(arr: Sequence[Person], key) -> Sequence[Person]:\n",
        "    max_value = max(key(elem) for elem in arr)\n",
        "    min_value = min(key(elem) for elem in arr)\n",
        "\n",
        "    tmp = [0 for _ in range(min_value, max_value + 1)]\n",
        "    out = [None for _ in arr]\n",
        "\n",
        "    key_ = lambda x: key(x) - min_value\n",
        "\n",
        "    for elem in arr:\n",
        "        tmp[key_(elem)] += 1\n",
        "\n",
        "    for i, c in enumerate(tmp[1:], start=1):\n",
        "        tmp[i] = tmp[i-1] + c\n",
        "\n",
        "    for elem in arr[::-1]:\n",
        "        out[tmp[key_(elem)] - 1] = elem\n",
        "        tmp[key_(elem)] -= 1\n",
        "    return out"
      ],
      "metadata": {
        "id": "7HjeMsvvB1bL"
      },
      "execution_count": 36,
      "outputs": []
    },
    {
      "cell_type": "code",
      "source": [
        "persons = [Person(balance=random.randint(-100, 100)) for i in range(15)]\n",
        "print([p.balance for p in persons])\n",
        "\n",
        "persons_sorted = count_sort_balance(persons, key=lambda p: p.balance)\n",
        "print([p.balance for p in persons_sorted])"
      ],
      "metadata": {
        "colab": {
          "base_uri": "https://localhost:8080/"
        },
        "id": "D6hroi8iRTeo",
        "outputId": "942d9381-db13-4485-a426-30ee2754d0e4"
      },
      "execution_count": 31,
      "outputs": [
        {
          "output_type": "stream",
          "name": "stdout",
          "text": [
            "[-71, -72, -66, -24, -34, 30, -64, -67, -52, -52, -16, 67, -30, -38, -34]\n",
            "[-72, -71, -67, -66, -64, -52, -52, -38, -34, -34, -30, -24, -16, 30, 67]\n"
          ]
        }
      ]
    },
    {
      "cell_type": "markdown",
      "source": [
        "**radix sort**"
      ],
      "metadata": {
        "id": "NZl9XWurVbjp"
      }
    },
    {
      "cell_type": "code",
      "source": [
        "def counting_sort_radix(arr, digit, base):\n",
        "    tmp = [0 for _ in range(base)]\n",
        "    out = [0 for _ in range(len(arr))]\n",
        "\n",
        "    for elem in arr:\n",
        "        index = (elem // digit) % base\n",
        "        tmp[index] += 1\n",
        "\n",
        "    for i in range(1, len(tmp)):\n",
        "        tmp[i] += tmp[i-1]\n",
        "\n",
        "    for elem in arr[::-1]:\n",
        "        index = (elem // digit) % base\n",
        "        out[tmp[index] - 1] = elem\n",
        "        tmp[index] -= 1\n",
        "    return out\n",
        "\n",
        "def radix_sort(arr):\n",
        "    max_value = max(arr)\n",
        "    digit = 1\n",
        "    base = 10\n",
        "    while (max_value / digit) >= 1:\n",
        "        arr = counting_sort_radix(arr, digit, base)\n",
        "        digit *= base\n",
        "\n",
        "    return arr"
      ],
      "metadata": {
        "id": "rvNSUy4pYBkW"
      },
      "execution_count": 43,
      "outputs": []
    },
    {
      "cell_type": "code",
      "source": [
        "test_arr = [17, 23, 907, 135, 5, 10, 99, 245, 9]\n",
        "print(radix_sort(test_arr))"
      ],
      "metadata": {
        "colab": {
          "base_uri": "https://localhost:8080/"
        },
        "id": "CT1Bt6MBSjDE",
        "outputId": "02995c3e-acd2-421f-cec6-0ed64f82ba68"
      },
      "execution_count": 44,
      "outputs": [
        {
          "output_type": "stream",
          "name": "stdout",
          "text": [
            "[5, 9, 10, 17, 23, 99, 135, 245, 907]\n"
          ]
        }
      ]
    },
    {
      "cell_type": "code",
      "source": [],
      "metadata": {
        "id": "oTXq2KIoeu8t"
      },
      "execution_count": null,
      "outputs": []
    }
  ],
  "metadata": {
    "kernelspec": {
      "display_name": "Python 3 (ipykernel)",
      "language": "python",
      "name": "python3"
    },
    "language_info": {
      "codemirror_mode": {
        "name": "ipython",
        "version": 3
      },
      "file_extension": ".py",
      "mimetype": "text/x-python",
      "name": "python",
      "nbconvert_exporter": "python",
      "pygments_lexer": "ipython3",
      "version": "3.10.7"
    },
    "colab": {
      "provenance": []
    }
  },
  "nbformat": 4,
  "nbformat_minor": 0
}