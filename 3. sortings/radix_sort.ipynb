{
  "cells": [
    {
      "cell_type": "code",
      "source": [
        "def naive_radix_sort(arr):\n",
        "    max_len = len(str(max(arr)))\n",
        "    base = 10\n",
        "\n",
        "    for i in range(base):\n",
        "        tmp = [[] for _ in range(base)]\n",
        "        for elem in arr:\n",
        "            index = (elem // base ** i) % base\n",
        "            tmp[index].append(elem)\n",
        "        arr = [elem for sublist in tmp for elem in sublist]\n",
        "\n",
        "    return arr"
      ],
      "metadata": {
        "id": "Le67p2ednK9Y"
      },
      "execution_count": 26,
      "outputs": []
    },
    {
      "cell_type": "code",
      "source": [
        "test_arr = [137137105157, 24395739293, 474290561035, 5, 276, 42, 100, 101, 278929]\n",
        "print(naive_radix_sort(test_arr))"
      ],
      "metadata": {
        "id": "CKtD-Nvpf5Gt",
        "colab": {
          "base_uri": "https://localhost:8080/"
        },
        "outputId": "def2157d-e4ba-44ec-8043-71e4556da896"
      },
      "execution_count": 27,
      "outputs": [
        {
          "output_type": "stream",
          "name": "stdout",
          "text": [
            "[5, 42, 100, 101, 276, 278929, 474290561035, 24395739293, 137137105157]\n"
          ]
        }
      ]
    },
    {
      "cell_type": "code",
      "source": [
        "def counting_sort(arr, exp):\n",
        "    len_arr = len(arr)\n",
        "    base = 10\n",
        "\n",
        "    tmp = [0 for _ in range(base)]\n",
        "    out = [0 for _ in range(len_arr)]\n",
        "\n",
        "    for elem in arr:\n",
        "        index = (elem // exp) % base\n",
        "        tmp[index] += 1\n",
        "\n",
        "    for i in range(1, base):\n",
        "        tmp[i] += tmp[i-1]\n",
        "\n",
        "    for i in range(len_arr-1, -1, -1):\n",
        "        index = (arr[i] // exp) % base\n",
        "        out[tmp[index] - 1] = arr[i]\n",
        "        tmp[index] -= 1\n",
        "\n",
        "    for i in range(len_arr):\n",
        "        arr[i] = out[i]\n",
        "\n",
        "    return arr\n",
        "\n",
        "def radix_sort(arr):\n",
        "    max_value = max(arr)\n",
        "    exp = 1\n",
        "    while max_value / exp >= 1:\n",
        "        counting_sort(arr, exp)\n",
        "        exp *= 10\n",
        "\n",
        "    return arr"
      ],
      "metadata": {
        "id": "zr9yu_HOqhJn"
      },
      "execution_count": 28,
      "outputs": []
    },
    {
      "cell_type": "code",
      "source": [
        "test_arr = [137137105157, 24395739293, 474290561035, 5, 276, 42, 100, 101, 278929]\n",
        "print(radix_sort(test_arr))"
      ],
      "metadata": {
        "colab": {
          "base_uri": "https://localhost:8080/"
        },
        "id": "CPVEEu3gqhOo",
        "outputId": "29b725b3-5a06-4d58-a05f-b243b9526e66"
      },
      "execution_count": 29,
      "outputs": [
        {
          "output_type": "stream",
          "name": "stdout",
          "text": [
            "[5, 42, 100, 101, 276, 278929, 24395739293, 137137105157, 474290561035]\n"
          ]
        }
      ]
    },
    {
      "cell_type": "code",
      "source": [],
      "metadata": {
        "id": "AnjaOyXcqhRn"
      },
      "execution_count": null,
      "outputs": []
    }
  ],
  "metadata": {
    "kernelspec": {
      "display_name": "Python 3 (ipykernel)",
      "language": "python",
      "name": "python3"
    },
    "language_info": {
      "codemirror_mode": {
        "name": "ipython",
        "version": 3
      },
      "file_extension": ".py",
      "mimetype": "text/x-python",
      "name": "python",
      "nbconvert_exporter": "python",
      "pygments_lexer": "ipython3",
      "version": "3.10.7"
    },
    "colab": {
      "provenance": []
    }
  },
  "nbformat": 4,
  "nbformat_minor": 0
}