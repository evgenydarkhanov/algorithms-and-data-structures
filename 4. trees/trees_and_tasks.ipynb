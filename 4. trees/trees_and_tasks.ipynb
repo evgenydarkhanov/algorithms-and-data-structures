{
  "cells": [
    {
      "cell_type": "code",
      "source": [
        "class TreeNode:\n",
        "    def __init__(self, data, left=None, right=None):\n",
        "        self.data = data\n",
        "        self.right = right\n",
        "        self.left = left\n",
        "\n",
        "n3 = TreeNode(3)\n",
        "n1 = TreeNode(1, left=n3)\n",
        "n2 = TreeNode(2)\n",
        "root = TreeNode(0, n1, n2)"
      ],
      "metadata": {
        "id": "GslHJJFHT1IE"
      },
      "execution_count": 1,
      "outputs": []
    },
    {
      "cell_type": "markdown",
      "source": [
        "**Задача**: найти элемент $k$ в дереве обходом в ширину (BFS). Если элемента нет - вернуть `None`"
      ],
      "metadata": {
        "id": "5ZQPu_eEwNrH"
      }
    },
    {
      "cell_type": "code",
      "source": [
        "from collections import deque"
      ],
      "metadata": {
        "id": "OG9iBNx4xEG7"
      },
      "execution_count": 2,
      "outputs": []
    },
    {
      "cell_type": "code",
      "source": [
        "def breadth_first_search(root, k):\n",
        "    if root is not None:\n",
        "        nodes_queue = deque([root])\n",
        "\n",
        "        while nodes_queue:\n",
        "            node = nodes_queue.popleft()\n",
        "            if node.data == k:\n",
        "                return node.data\n",
        "            if node.left is not None:\n",
        "                nodes_queue.append(node.left)\n",
        "            if node.right is not None:\n",
        "                nodes_queue.append(node.right)\n",
        "\n",
        "    return None"
      ],
      "metadata": {
        "id": "Q_EBJvDUwORu"
      },
      "execution_count": 70,
      "outputs": []
    },
    {
      "cell_type": "code",
      "source": [
        "breadth_first_search(root, 1)"
      ],
      "metadata": {
        "colab": {
          "base_uri": "https://localhost:8080/"
        },
        "id": "zXLBGWYEyo7-",
        "outputId": "bd63f26e-a89d-4e7d-be31-326fbf0634c6"
      },
      "execution_count": null,
      "outputs": [
        {
          "output_type": "execute_result",
          "data": {
            "text/plain": [
              "1"
            ]
          },
          "metadata": {},
          "execution_count": 32
        }
      ]
    },
    {
      "cell_type": "code",
      "source": [
        "# ещё вариант\n",
        "def find_bfs(root, k):\n",
        "    if not root:\n",
        "        return None\n",
        "\n",
        "    que = deque([root])\n",
        "\n",
        "    while que:\n",
        "        current_node = que.popleft()\n",
        "        if current_node.val == k:\n",
        "            return current_node\n",
        "\n",
        "        if current_node.left:\n",
        "            que.append(current_node.left)\n",
        "        if current_node.right:\n",
        "            que.append(current_node.right)\n",
        "\n",
        "    return None"
      ],
      "metadata": {
        "id": "ZS-vIb4n8DSv"
      },
      "execution_count": null,
      "outputs": []
    },
    {
      "cell_type": "code",
      "source": [
        "assert find_bfs(root, 2) is n2, f\"{find_bfs(root, 5)=}\"\n",
        "assert find_bfs(root, 0) is root, f\"{find_bfs(root, 0)=}\"\n",
        "assert find_bfs(None, 0) is None\n",
        "assert find_bfs(root, 5) is None"
      ],
      "metadata": {
        "id": "d0TjA6Yt9S7t"
      },
      "execution_count": 71,
      "outputs": []
    },
    {
      "cell_type": "markdown",
      "source": [
        "**Задача**: найти элемент $k$ в дереве прямым обходом в глубину (pre-order DFS). Если элемента нет - вернуть `None`"
      ],
      "metadata": {
        "id": "ZQrWBWOg2jvi"
      }
    },
    {
      "cell_type": "code",
      "source": [
        "# рекурсия. выход - нашли k, либо прошли всё дерево\n",
        "def pre_order_DFS(root, k):\n",
        "    if root is None:\n",
        "        return None\n",
        "    if root.data == k:\n",
        "        return root.data\n",
        "    else:\n",
        "        # такая схема, чтобы return из внутреннего вызова функции вернулся из внешней функции\n",
        "        return pre_order_DFS(root.left, k) or pre_order_DFS(root.right, k)"
      ],
      "metadata": {
        "id": "ejONefgmyryC"
      },
      "execution_count": null,
      "outputs": []
    },
    {
      "cell_type": "code",
      "source": [
        "# assert pre_order_DFS(root, 2) is n2, f\"{pre_order_DFS(root, 2)=}\"\n",
        "# assert pre_order_DFS(root, 0) is root, f\"{pre_order_DFS(root, 0)=}\"\n",
        "assert pre_order_DFS(None, 0) is None\n",
        "assert pre_order_DFS(root, 5) is None"
      ],
      "metadata": {
        "id": "qpLMS7J73bxR"
      },
      "execution_count": 72,
      "outputs": []
    },
    {
      "cell_type": "markdown",
      "source": [
        "**Задача**: инвертировать бинарное дерево"
      ],
      "metadata": {
        "id": "bNB2TjxY-ATu"
      }
    },
    {
      "cell_type": "code",
      "source": [
        "#         0                   0\n",
        "#     1       2   -->     2       1\n",
        "# 3                                   3"
      ],
      "metadata": {
        "id": "izSahAmV4MuI"
      },
      "execution_count": null,
      "outputs": []
    },
    {
      "cell_type": "code",
      "source": [
        "def invert_tree(root):\n",
        "    if not root:\n",
        "        return None\n",
        "\n",
        "    root.left, root.right = root.right, root.left\n",
        "    invert_tree(root.left)\n",
        "    invert_tree(root.right)"
      ],
      "metadata": {
        "id": "zt7knrgU-R0E"
      },
      "execution_count": 73,
      "outputs": []
    },
    {
      "cell_type": "markdown",
      "source": [
        "**Задача**: дано бинарное дерево. Вернуть список максимальных элементов с каждого уровня дерева"
      ],
      "metadata": {
        "id": "cI69I9Ag_aCR"
      }
    },
    {
      "cell_type": "code",
      "source": [
        "# как-то знать с какого уровня элементы\n",
        "# хранить не просто узел, а номер его уровня\n",
        "\n",
        "# а можно, вроде, двумя циклами: один по уровням, второй внутри уровня\n",
        "# не храним дополнительную переменную\n",
        "\n",
        "def find_max_bfs(root):\n",
        "    if not root:\n",
        "        return []\n",
        "\n",
        "    que = deque([(root, 0)])\n",
        "    max_values = []\n",
        "\n",
        "    while que:\n",
        "        current_node, node_level = que.popleft()\n",
        "\n",
        "        if len(max_values) <= node_level:\n",
        "            max_values.append(current_node.data)\n",
        "\n",
        "        elif current_node.data > max_values[node_level]:\n",
        "            max_values[node_level] = current_node.data\n",
        "\n",
        "        if current_node.left:\n",
        "            que.append((current_node.left, node_level + 1))\n",
        "\n",
        "        if current_node.right:\n",
        "            que.append((current_node.right, node_level + 1))\n",
        "\n",
        "    return max_values"
      ],
      "metadata": {
        "id": "hm8IZYht-wSQ"
      },
      "execution_count": 77,
      "outputs": []
    },
    {
      "cell_type": "markdown",
      "source": [
        "**Задача**: обойти бинарное дерево поиска (BST) нерекурсивно in-order, чтобы элементы вывелись отсортированном порядке"
      ],
      "metadata": {
        "id": "bfWLrRqq64md"
      }
    },
    {
      "cell_type": "code",
      "source": [
        "# используем уже имеющееся дерево\n",
        "#         0\n",
        "#     1       2\n",
        "# 3"
      ],
      "metadata": {
        "id": "uYAmfkA-8xPE"
      },
      "execution_count": 8,
      "outputs": []
    },
    {
      "cell_type": "code",
      "source": [
        "# потребуется стек для складывания правых элементов\n",
        "\n",
        "def traverse_inorder(root):\n",
        "    stack = []\n",
        "    node = root\n",
        "    result = []\n",
        "\n",
        "    while stack or node:\n",
        "        while node:\n",
        "            stack.append(node)\n",
        "            node = node.left\n",
        "\n",
        "        node = stack.pop()\n",
        "\n",
        "        print(f'{node.data=}')\n",
        "        result.append(node.data)\n",
        "\n",
        "        node = node.right\n",
        "\n",
        "    return result"
      ],
      "metadata": {
        "id": "T_fgJPTACl9Y"
      },
      "execution_count": 20,
      "outputs": []
    },
    {
      "cell_type": "code",
      "source": [
        "print(traverse_inorder(root))"
      ],
      "metadata": {
        "colab": {
          "base_uri": "https://localhost:8080/"
        },
        "id": "8wYinLn59SOu",
        "outputId": "f1c0a227-be80-4d71-cb12-a8a804f6a1d6"
      },
      "execution_count": 6,
      "outputs": [
        {
          "output_type": "stream",
          "name": "stdout",
          "text": [
            "node.data=3\n",
            "node.data=1\n",
            "node.data=0\n",
            "node.data=2\n",
            "[3, 1, 0, 2]\n"
          ]
        }
      ]
    },
    {
      "cell_type": "markdown",
      "source": [
        "**Задача**: проверить является ли дерево бинарным деревом поиска"
      ],
      "metadata": {
        "id": "O2WhOS8j-Hc8"
      }
    },
    {
      "cell_type": "code",
      "source": [
        "# на каждом уровне есть границы значений\n",
        "# проверяем входит ли узел в эти границы\n",
        "\n",
        "def is_bst(root, min_value=float('-inf'), max_value=float('inf')):\n",
        "    if root is None:\n",
        "        return True\n",
        "\n",
        "    if not (min_value < root.data < max_value):\n",
        "        return False\n",
        "\n",
        "    return (\n",
        "        is_bst(root.left, min_value, root.data)\n",
        "        and is_bst(root.right, root.data, max_value))"
      ],
      "metadata": {
        "id": "YfAcYAPN9atJ"
      },
      "execution_count": 14,
      "outputs": []
    },
    {
      "cell_type": "markdown",
      "source": [
        "**Задача**: вернуть сбалансированное BST из отсортированного массива. В ином случае можно вернуть односвязный список"
      ],
      "metadata": {
        "id": "VvyKP3HB-Rwy"
      }
    },
    {
      "cell_type": "code",
      "source": [
        "# можно согнуть массив посередине и сдвигать элементы на необходимые позиции\n",
        "# каждый раз брать (len(arr) // 2) или средний/медианный элемент\n",
        "# всё что слева рекурсивно дальше, всё что справа рекурсивно дальше\n",
        "\n",
        "def build_balanced_bst(arr):\n",
        "    if len(arr) == 0:\n",
        "        return None\n",
        "\n",
        "    idx = len(arr) // 2\n",
        "    pivot = arr[idx]\n",
        "\n",
        "    # лучше передавать индексы, а не копировать туда-сюда массив\n",
        "    node = TreeNode(pivot)\n",
        "    node.left = build_balanced_bst(arr[:idx])\n",
        "    node.right = build_balanced_bst(arr[idx + 1:])\n",
        "\n",
        "    return node"
      ],
      "metadata": {
        "id": "OdkXwuPq-R3T"
      },
      "execution_count": 25,
      "outputs": []
    },
    {
      "cell_type": "code",
      "source": [
        "# вроде, работает\n",
        "test_array = list(range(10))\n",
        "traverse_inorder(build_balanced_bst(test_array))"
      ],
      "metadata": {
        "colab": {
          "base_uri": "https://localhost:8080/"
        },
        "id": "hyu9y2-l-bt4",
        "outputId": "82ba9162-31dd-4164-ccb0-18858059a158"
      },
      "execution_count": 27,
      "outputs": [
        {
          "output_type": "stream",
          "name": "stdout",
          "text": [
            "node.data=0\n",
            "node.data=1\n",
            "node.data=2\n",
            "node.data=3\n",
            "node.data=4\n",
            "node.data=5\n",
            "node.data=6\n",
            "node.data=7\n",
            "node.data=8\n",
            "node.data=9\n"
          ]
        },
        {
          "output_type": "execute_result",
          "data": {
            "text/plain": [
              "[0, 1, 2, 3, 4, 5, 6, 7, 8, 9]"
            ]
          },
          "metadata": {},
          "execution_count": 27
        }
      ]
    },
    {
      "cell_type": "code",
      "source": [],
      "metadata": {
        "id": "hWOiP5zEMsmj"
      },
      "execution_count": null,
      "outputs": []
    }
  ],
  "metadata": {
    "kernelspec": {
      "display_name": "Python 3 (ipykernel)",
      "language": "python",
      "name": "python3"
    },
    "language_info": {
      "codemirror_mode": {
        "name": "ipython",
        "version": 3
      },
      "file_extension": ".py",
      "mimetype": "text/x-python",
      "name": "python",
      "nbconvert_exporter": "python",
      "pygments_lexer": "ipython3",
      "version": "3.10.7"
    },
    "colab": {
      "provenance": []
    }
  },
  "nbformat": 4,
  "nbformat_minor": 0
}